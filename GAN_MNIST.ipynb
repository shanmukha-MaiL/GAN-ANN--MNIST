{
 "cells": [
  {
   "cell_type": "code",
   "execution_count": 38,
   "metadata": {},
   "outputs": [],
   "source": [
    "import numpy as np\n",
    "import tensorflow as tf\n",
    "import pickle as p\n",
    "import matplotlib.pyplot as plt\n",
    "%matplotlib inline"
   ]
  },
  {
   "cell_type": "code",
   "execution_count": 39,
   "metadata": {},
   "outputs": [
    {
     "name": "stdout",
     "output_type": "stream",
     "text": [
      "Extracting MNIST_DATA/train-images-idx3-ubyte.gz\n",
      "Extracting MNIST_DATA/train-labels-idx1-ubyte.gz\n",
      "Extracting MNIST_DATA/t10k-images-idx3-ubyte.gz\n",
      "Extracting MNIST_DATA/t10k-labels-idx1-ubyte.gz\n"
     ]
    }
   ],
   "source": [
    "from tensorflow.examples.tutorials.mnist import input_data\n",
    "mnist = input_data.read_data_sets(\"MNIST_DATA\")"
   ]
  },
  {
   "cell_type": "code",
   "execution_count": 40,
   "metadata": {},
   "outputs": [],
   "source": [
    "def model_inputs(real_dim,z_dim):\n",
    "    real_inputs = tf.placeholder(tf.float32,(None,real_dim),name='real_inputs')\n",
    "    z_inputs = tf.placeholder(tf.float32,(None,z_dim),name='z_inputs')\n",
    "    return real_inputs,z_inputs"
   ]
  },
  {
   "cell_type": "code",
   "execution_count": 41,
   "metadata": {},
   "outputs": [],
   "source": [
    "\"\"\"generator\"\"\"\n",
    "def generator(z,output_dim,neurons=128,reuse=False,alpha=0.01):\n",
    "    with tf.variable_scope('generator',reuse=reuse):\n",
    "        l1 = tf.layers.dense(z,neurons,activation=None)\n",
    "        #leaky relu\n",
    "        l1 = tf.maximum(alpha*l1,l1)\n",
    "        logits = tf.layers.dense(l1,output_dim,activation=None)\n",
    "        output = tf.nn.tanh(logits)\n",
    "        return output,logits"
   ]
  },
  {
   "cell_type": "code",
   "execution_count": 42,
   "metadata": {},
   "outputs": [],
   "source": [
    "\"\"\"discriminator\"\"\"\n",
    "def discriminator(input_dim,neurons=128,reuse=False,alpha=0.01):\n",
    "    with tf.variable_scope('discriminator',reuse=reuse):\n",
    "        l1 = tf.layers.dense(input_dim,neurons,activation=None)\n",
    "        #leaky relu\n",
    "        l1 = tf.maximum(alpha*l1,l1)\n",
    "        logits = tf.layers.dense(l1,1,activation=None)\n",
    "        output = tf.nn.sigmoid(logits)\n",
    "        return output,logits"
   ]
  },
  {
   "cell_type": "code",
   "execution_count": 43,
   "metadata": {},
   "outputs": [],
   "source": [
    "input_size = 28*28\n",
    "z_size = 100\n",
    "alpha = 0.01\n",
    "g_neurons = 128\n",
    "d_neurons = 128\n",
    "label_smoothing = 0.1"
   ]
  },
  {
   "cell_type": "code",
   "execution_count": 44,
   "metadata": {},
   "outputs": [],
   "source": [
    "\"\"\"create graph\"\"\"\n",
    "tf.reset_default_graph()\n",
    "real_inputs,z_inputs = model_inputs(input_size,z_size)\n",
    "#generator network\n",
    "g_output,g_logits = generator(z_inputs,input_size,g_neurons,alpha=alpha)\n",
    "#real discriminator\n",
    "d_real_output,d_real_logits = discriminator(real_inputs,d_neurons,alpha=alpha)\n",
    "#fake discriminator\n",
    "d_fake_output,d_fake_logits = discriminator(g_output,d_neurons,reuse=True,alpha=alpha)"
   ]
  },
  {
   "cell_type": "code",
   "execution_count": 45,
   "metadata": {},
   "outputs": [],
   "source": [
    "\"\"\"losses\"\"\"\n",
    "d_real_labels = tf.ones_like(d_real_logits)*(1-label_smoothing)\n",
    "d_fake_labels = tf.zeros_like(d_fake_logits)\n",
    "d_real_loss = tf.nn.sigmoid_cross_entropy_with_logits(labels=d_real_labels,logits=d_real_logits)\n",
    "d_fake_loss = tf.nn.sigmoid_cross_entropy_with_logits(labels=d_fake_labels,logits=d_fake_logits)\n",
    "d_loss = tf.reduce_mean(d_real_loss + d_fake_loss)\n",
    "g_loss = tf.reduce_mean(tf.nn.sigmoid_cross_entropy_with_logits(labels=tf.ones_like(d_fake_logits),logits=d_fake_logits))"
   ]
  },
  {
   "cell_type": "code",
   "execution_count": 46,
   "metadata": {},
   "outputs": [],
   "source": [
    "\"\"\"optimizers\"\"\"\n",
    "l_rate = 0.002\n",
    "var = tf.trainable_variables()\n",
    "d_vars = [v for v in var if v.name.startswith('discriminator')]\n",
    "g_vars = [v for v in var if v.name.startswith('generator')]\n",
    "d_optimizer = tf.train.AdamOptimizer(learning_rate=l_rate).minimize(d_loss,var_list=d_vars)\n",
    "g_optimizer = tf.train.AdamOptimizer(learning_rate=l_rate).minimize(g_loss,var_list=g_vars)"
   ]
  },
  {
   "cell_type": "code",
   "execution_count": 47,
   "metadata": {},
   "outputs": [],
   "source": [
    "# import cv2\n",
    "# batch = mnist.train.next_batch(2)\n",
    "# b = batch[0].reshape((28,28))\n",
    "# #print(batch[0][0].reshape((28,28)).shape)\n",
    "# print(b.shape)\n",
    "# cv2.imshow('image',b)\n",
    "# cv2.waitKey(0)\n",
    "# cv2.destroyAllWindows()\n",
    "# a = np.array([[0,0,0,0,0.3],[0,0.2,0.4,0,0]])\n",
    "# a = a*2-1\n",
    "# print(a)"
   ]
  },
  {
   "cell_type": "code",
   "execution_count": 83,
   "metadata": {
    "scrolled": true
   },
   "outputs": [
    {
     "name": "stdout",
     "output_type": "stream",
     "text": [
      "Discriminator loss : 0.36196712  ,Generator loss : 3.5746832  ----> epoch  1\n",
      "Discriminator loss : 0.5165026  ,Generator loss : 3.1054206  ----> epoch  2\n",
      "Discriminator loss : 0.42880836  ,Generator loss : 3.6588397  ----> epoch  3\n",
      "Discriminator loss : 1.3145031  ,Generator loss : 3.7189846  ----> epoch  4\n",
      "Discriminator loss : 0.8578203  ,Generator loss : 14.713506  ----> epoch  5\n",
      "Discriminator loss : 0.9812674  ,Generator loss : 4.292563  ----> epoch  6\n",
      "Discriminator loss : 1.0948324  ,Generator loss : 1.7405341  ----> epoch  7\n",
      "Discriminator loss : 1.2779843  ,Generator loss : 2.457892  ----> epoch  8\n",
      "Discriminator loss : 1.1812973  ,Generator loss : 2.1504896  ----> epoch  9\n",
      "Discriminator loss : 0.7510629  ,Generator loss : 2.4147727  ----> epoch  10\n",
      "Discriminator loss : 1.3442414  ,Generator loss : 2.2544084  ----> epoch  11\n",
      "Discriminator loss : 1.3512496  ,Generator loss : 1.810925  ----> epoch  12\n",
      "Discriminator loss : 0.82358146  ,Generator loss : 3.1318796  ----> epoch  13\n",
      "Discriminator loss : 3.4047167  ,Generator loss : 1.4215479  ----> epoch  14\n",
      "Discriminator loss : 1.2644765  ,Generator loss : 1.4429129  ----> epoch  15\n",
      "Discriminator loss : 1.146449  ,Generator loss : 2.8287208  ----> epoch  16\n",
      "Discriminator loss : 1.3658402  ,Generator loss : 2.384654  ----> epoch  17\n",
      "Discriminator loss : 0.9808699  ,Generator loss : 2.2743375  ----> epoch  18\n",
      "Discriminator loss : 1.6233084  ,Generator loss : 2.8363018  ----> epoch  19\n",
      "Discriminator loss : 0.9111018  ,Generator loss : 2.692567  ----> epoch  20\n",
      "Discriminator loss : 1.0356019  ,Generator loss : 1.601279  ----> epoch  21\n",
      "Discriminator loss : 1.2548051  ,Generator loss : 1.7917653  ----> epoch  22\n",
      "Discriminator loss : 0.76364154  ,Generator loss : 2.5517814  ----> epoch  23\n",
      "Discriminator loss : 0.796057  ,Generator loss : 2.1389954  ----> epoch  24\n",
      "Discriminator loss : 0.8598291  ,Generator loss : 2.433005  ----> epoch  25\n",
      "Discriminator loss : 1.2346785  ,Generator loss : 1.6951804  ----> epoch  26\n",
      "Discriminator loss : 0.97698593  ,Generator loss : 1.8498055  ----> epoch  27\n",
      "Discriminator loss : 0.65795726  ,Generator loss : 2.631759  ----> epoch  28\n",
      "Discriminator loss : 0.7264224  ,Generator loss : 2.4023533  ----> epoch  29\n",
      "Discriminator loss : 0.81515104  ,Generator loss : 2.5016487  ----> epoch  30\n",
      "Discriminator loss : 0.77409196  ,Generator loss : 2.490138  ----> epoch  31\n",
      "Discriminator loss : 1.1498865  ,Generator loss : 1.418912  ----> epoch  32\n",
      "Discriminator loss : 1.0087672  ,Generator loss : 2.2619295  ----> epoch  33\n",
      "Discriminator loss : 0.83620715  ,Generator loss : 2.2606149  ----> epoch  34\n",
      "Discriminator loss : 0.83807886  ,Generator loss : 2.0206988  ----> epoch  35\n",
      "Discriminator loss : 1.0478828  ,Generator loss : 1.5398886  ----> epoch  36\n",
      "Discriminator loss : 0.84401596  ,Generator loss : 2.3443453  ----> epoch  37\n",
      "Discriminator loss : 0.92818254  ,Generator loss : 2.3259535  ----> epoch  38\n",
      "Discriminator loss : 0.9717494  ,Generator loss : 1.8233145  ----> epoch  39\n",
      "Discriminator loss : 0.7464993  ,Generator loss : 2.4644337  ----> epoch  40\n",
      "Discriminator loss : 1.1107535  ,Generator loss : 1.8896005  ----> epoch  41\n",
      "Discriminator loss : 0.9395487  ,Generator loss : 2.153764  ----> epoch  42\n",
      "Discriminator loss : 0.92845595  ,Generator loss : 2.063665  ----> epoch  43\n",
      "Discriminator loss : 1.0874419  ,Generator loss : 1.7225418  ----> epoch  44\n",
      "Discriminator loss : 0.85048366  ,Generator loss : 2.2480204  ----> epoch  45\n",
      "Discriminator loss : 0.8231609  ,Generator loss : 2.3852763  ----> epoch  46\n",
      "Discriminator loss : 0.9925093  ,Generator loss : 2.2701044  ----> epoch  47\n",
      "Discriminator loss : 0.8646684  ,Generator loss : 1.9100615  ----> epoch  48\n",
      "Discriminator loss : 0.95718795  ,Generator loss : 1.7892478  ----> epoch  49\n",
      "Discriminator loss : 1.0687535  ,Generator loss : 1.3267457  ----> epoch  50\n",
      "Discriminator loss : 0.8965955  ,Generator loss : 1.9051907  ----> epoch  51\n",
      "Discriminator loss : 0.9090274  ,Generator loss : 1.927417  ----> epoch  52\n",
      "Discriminator loss : 1.0211312  ,Generator loss : 1.5964346  ----> epoch  53\n",
      "Discriminator loss : 0.9590201  ,Generator loss : 2.267694  ----> epoch  54\n",
      "Discriminator loss : 1.0605057  ,Generator loss : 1.8209872  ----> epoch  55\n",
      "Discriminator loss : 0.9328128  ,Generator loss : 1.780907  ----> epoch  56\n",
      "Discriminator loss : 0.93486804  ,Generator loss : 2.0485957  ----> epoch  57\n",
      "Discriminator loss : 1.0589594  ,Generator loss : 1.5618231  ----> epoch  58\n",
      "Discriminator loss : 1.0993664  ,Generator loss : 1.3069985  ----> epoch  59\n",
      "Discriminator loss : 1.0935458  ,Generator loss : 2.1300375  ----> epoch  60\n",
      "Discriminator loss : 0.81414914  ,Generator loss : 2.0328143  ----> epoch  61\n",
      "Discriminator loss : 1.1691158  ,Generator loss : 1.5804114  ----> epoch  62\n",
      "Discriminator loss : 0.95129365  ,Generator loss : 2.0514703  ----> epoch  63\n",
      "Discriminator loss : 1.0706869  ,Generator loss : 1.7387296  ----> epoch  64\n",
      "Discriminator loss : 0.93427473  ,Generator loss : 1.8820862  ----> epoch  65\n",
      "Discriminator loss : 0.95750636  ,Generator loss : 1.6828249  ----> epoch  66\n",
      "Discriminator loss : 1.0194762  ,Generator loss : 1.7815176  ----> epoch  67\n",
      "Discriminator loss : 0.8739345  ,Generator loss : 2.120302  ----> epoch  68\n",
      "Discriminator loss : 1.103767  ,Generator loss : 1.5967383  ----> epoch  69\n",
      "Discriminator loss : 1.0463345  ,Generator loss : 1.5333136  ----> epoch  70\n",
      "Discriminator loss : 1.1320224  ,Generator loss : 2.202932  ----> epoch  71\n",
      "Discriminator loss : 0.9105638  ,Generator loss : 1.7685596  ----> epoch  72\n",
      "Discriminator loss : 0.98134387  ,Generator loss : 1.6893615  ----> epoch  73\n",
      "Discriminator loss : 0.9379509  ,Generator loss : 1.9847121  ----> epoch  74\n",
      "Discriminator loss : 0.83303225  ,Generator loss : 2.0038307  ----> epoch  75\n",
      "Discriminator loss : 1.1505736  ,Generator loss : 1.8487539  ----> epoch  76\n",
      "Discriminator loss : 1.0126276  ,Generator loss : 2.0720146  ----> epoch  77\n",
      "Discriminator loss : 1.0388223  ,Generator loss : 1.5901986  ----> epoch  78\n",
      "Discriminator loss : 1.0215086  ,Generator loss : 2.2294264  ----> epoch  79\n",
      "Discriminator loss : 0.97688  ,Generator loss : 2.1101432  ----> epoch  80\n",
      "Discriminator loss : 0.9521788  ,Generator loss : 1.8708911  ----> epoch  81\n",
      "Discriminator loss : 1.1366695  ,Generator loss : 1.9231633  ----> epoch  82\n",
      "Discriminator loss : 0.8858285  ,Generator loss : 1.7753366  ----> epoch  83\n",
      "Discriminator loss : 0.9580125  ,Generator loss : 1.7610269  ----> epoch  84\n",
      "Discriminator loss : 0.8737288  ,Generator loss : 2.0367823  ----> epoch  85\n",
      "Discriminator loss : 1.0220283  ,Generator loss : 1.5323261  ----> epoch  86\n",
      "Discriminator loss : 1.1020453  ,Generator loss : 1.4844998  ----> epoch  87\n",
      "Discriminator loss : 1.1619154  ,Generator loss : 1.6705631  ----> epoch  88\n",
      "Discriminator loss : 0.98372895  ,Generator loss : 1.7055087  ----> epoch  89\n",
      "Discriminator loss : 0.9486729  ,Generator loss : 1.5817499  ----> epoch  90\n",
      "Discriminator loss : 1.0252063  ,Generator loss : 1.453023  ----> epoch  91\n",
      "Discriminator loss : 1.0646713  ,Generator loss : 1.7213016  ----> epoch  92\n",
      "Discriminator loss : 1.0320963  ,Generator loss : 2.1516066  ----> epoch  93\n",
      "Discriminator loss : 0.89554536  ,Generator loss : 1.7466977  ----> epoch  94\n",
      "Discriminator loss : 1.1791273  ,Generator loss : 2.0465653  ----> epoch  95\n",
      "Discriminator loss : 0.95083666  ,Generator loss : 1.751037  ----> epoch  96\n",
      "Discriminator loss : 0.846841  ,Generator loss : 2.1379497  ----> epoch  97\n",
      "Discriminator loss : 0.94004136  ,Generator loss : 1.6991168  ----> epoch  98\n",
      "Discriminator loss : 1.0556166  ,Generator loss : 1.5948792  ----> epoch  99\n",
      "Discriminator loss : 0.99816316  ,Generator loss : 1.9730165  ----> epoch  100\n",
      "Discriminator loss : 1.0026097  ,Generator loss : 1.7602029  ----> epoch  101\n",
      "Discriminator loss : 0.8761772  ,Generator loss : 1.8490404  ----> epoch  102\n",
      "Discriminator loss : 1.0265807  ,Generator loss : 1.914864  ----> epoch  103\n",
      "Discriminator loss : 0.9789691  ,Generator loss : 1.908127  ----> epoch  104\n",
      "Discriminator loss : 1.0100042  ,Generator loss : 2.042794  ----> epoch  105\n",
      "Discriminator loss : 0.9307358  ,Generator loss : 1.7749279  ----> epoch  106\n",
      "Discriminator loss : 0.7591679  ,Generator loss : 2.0992453  ----> epoch  107\n"
     ]
    },
    {
     "name": "stdout",
     "output_type": "stream",
     "text": [
      "Discriminator loss : 0.88848436  ,Generator loss : 1.6703789  ----> epoch  108\n",
      "Discriminator loss : 0.9004657  ,Generator loss : 1.5540318  ----> epoch  109\n",
      "Discriminator loss : 1.0408384  ,Generator loss : 1.6275337  ----> epoch  110\n",
      "Discriminator loss : 0.8580284  ,Generator loss : 1.9850806  ----> epoch  111\n",
      "Discriminator loss : 0.8941526  ,Generator loss : 1.7723688  ----> epoch  112\n",
      "Discriminator loss : 0.9507248  ,Generator loss : 2.0099466  ----> epoch  113\n",
      "Discriminator loss : 0.8453142  ,Generator loss : 1.7586323  ----> epoch  114\n",
      "Discriminator loss : 0.97208536  ,Generator loss : 2.0059364  ----> epoch  115\n",
      "Discriminator loss : 0.8891409  ,Generator loss : 2.2526639  ----> epoch  116\n",
      "Discriminator loss : 1.0322918  ,Generator loss : 2.0878036  ----> epoch  117\n",
      "Discriminator loss : 1.2462236  ,Generator loss : 1.5835696  ----> epoch  118\n",
      "Discriminator loss : 0.92303205  ,Generator loss : 2.0438812  ----> epoch  119\n",
      "Discriminator loss : 0.92698693  ,Generator loss : 1.862611  ----> epoch  120\n",
      "Discriminator loss : 0.880985  ,Generator loss : 1.8760438  ----> epoch  121\n",
      "Discriminator loss : 1.0186142  ,Generator loss : 1.7181243  ----> epoch  122\n",
      "Discriminator loss : 1.0746591  ,Generator loss : 2.2861297  ----> epoch  123\n",
      "Discriminator loss : 0.89295363  ,Generator loss : 2.1487496  ----> epoch  124\n",
      "Discriminator loss : 0.95640665  ,Generator loss : 1.6212692  ----> epoch  125\n",
      "Discriminator loss : 0.94629407  ,Generator loss : 2.0777662  ----> epoch  126\n",
      "Discriminator loss : 1.055974  ,Generator loss : 1.6721256  ----> epoch  127\n",
      "Discriminator loss : 1.0112537  ,Generator loss : 2.171467  ----> epoch  128\n",
      "Discriminator loss : 0.9305807  ,Generator loss : 2.3699658  ----> epoch  129\n",
      "Discriminator loss : 0.95225495  ,Generator loss : 1.7341696  ----> epoch  130\n",
      "Discriminator loss : 0.94389635  ,Generator loss : 2.1324275  ----> epoch  131\n",
      "Discriminator loss : 0.97463816  ,Generator loss : 1.793892  ----> epoch  132\n",
      "Discriminator loss : 1.0482572  ,Generator loss : 1.6603594  ----> epoch  133\n",
      "Discriminator loss : 1.0004554  ,Generator loss : 1.9348156  ----> epoch  134\n",
      "Discriminator loss : 0.8034433  ,Generator loss : 2.0804055  ----> epoch  135\n",
      "Discriminator loss : 0.94491684  ,Generator loss : 1.7861066  ----> epoch  136\n",
      "Discriminator loss : 0.9091536  ,Generator loss : 2.0614219  ----> epoch  137\n",
      "Discriminator loss : 0.9609968  ,Generator loss : 1.8045026  ----> epoch  138\n",
      "Discriminator loss : 0.8372919  ,Generator loss : 2.3386436  ----> epoch  139\n",
      "Discriminator loss : 0.9294062  ,Generator loss : 2.3013728  ----> epoch  140\n",
      "Discriminator loss : 1.0548244  ,Generator loss : 1.6586581  ----> epoch  141\n",
      "Discriminator loss : 1.0104028  ,Generator loss : 1.851319  ----> epoch  142\n",
      "Discriminator loss : 0.88437957  ,Generator loss : 1.9142429  ----> epoch  143\n",
      "Discriminator loss : 1.2026845  ,Generator loss : 1.1844999  ----> epoch  144\n",
      "Discriminator loss : 0.9674025  ,Generator loss : 1.7784272  ----> epoch  145\n",
      "Discriminator loss : 1.036695  ,Generator loss : 1.833472  ----> epoch  146\n",
      "Discriminator loss : 0.81343764  ,Generator loss : 2.3523688  ----> epoch  147\n",
      "Discriminator loss : 1.1060315  ,Generator loss : 1.7586021  ----> epoch  148\n",
      "Discriminator loss : 0.9552102  ,Generator loss : 1.7426517  ----> epoch  149\n",
      "Discriminator loss : 1.0886602  ,Generator loss : 1.9931866  ----> epoch  150\n"
     ]
    }
   ],
   "source": [
    "\"\"\"training\"\"\"\n",
    "epochs = 150\n",
    "batch_size = 100\n",
    "losses = []\n",
    "samples = []\n",
    "saver = tf.train.Saver(var_list=g_vars)\n",
    "with tf.Session() as sess:\n",
    "    sess.run(tf.global_variables_initializer())\n",
    "    for e in range(epochs):\n",
    "#         d_epoch_loss = 0\n",
    "#         g_epoch_loss = 0\n",
    "        for i in range(mnist.train.num_examples//batch_size):\n",
    "            batch = mnist.train.next_batch(batch_size)\n",
    "            batch_images = batch[0].reshape((batch_size,784))\n",
    "            #rescaling to (-1,1)\n",
    "            batch_images = batch_images*2 - 1\n",
    "            #initializing z\n",
    "            batch_z = np.random.uniform(-1,1,(batch_size,z_size))\n",
    "            #run optimizers\n",
    "            _ = sess.run(d_optimizer,feed_dict={real_inputs:batch_images,z_inputs:batch_z})\n",
    "            _ = sess.run(g_optimizer,feed_dict={z_inputs:batch_z})\n",
    "#             d_epoch_loss += d_batch_loss\n",
    "#             g_epoch_loss += g_batch_loss\n",
    "        d_epoch_loss = sess.run(d_loss,feed_dict={z_inputs:batch_z,real_inputs:batch_images})\n",
    "        g_epoch_loss = g_loss.eval(feed_dict={z_inputs:batch_z})\n",
    "        print(\"Discriminator loss :\",d_epoch_loss,\" ,Generator loss :\",g_epoch_loss,\" ----> epoch \",e+1)\n",
    "        losses.append((d_epoch_loss,g_epoch_loss))\n",
    "        #sample z for samples from generator\n",
    "        sample_z = np.random.uniform(-1,1,(16,z_size))\n",
    "        g_samples = sess.run(generator(z_inputs,input_size,reuse=True),feed_dict={z_inputs:sample_z})\n",
    "        samples.append(g_samples)\n",
    "        saver.save(sess,'./checkpoints/generator.ckpt')\n",
    "        \n",
    "#pickling samples\n",
    "with open('generator_samples.pkl','wb') as f:\n",
    "    p.dump(samples,f)"
   ]
  },
  {
   "cell_type": "code",
   "execution_count": 84,
   "metadata": {},
   "outputs": [
    {
     "data": {
      "text/plain": [
       "<matplotlib.legend.Legend at 0x7f361ba122b0>"
      ]
     },
     "execution_count": 84,
     "metadata": {},
     "output_type": "execute_result"
    },
    {
     "data": {
      "image/png": "[encoded data removed]",
      "text/plain": [
       "<matplotlib.figure.Figure at 0x7f364d39f3c8>"
      ]
     },
     "metadata": {},
     "output_type": "display_data"
    }
   ],
   "source": [
    "fig,ax = plt.subplots()\n",
    "losses = np.array(losses)\n",
    "plt.plot(losses.T[0],label='Discriminator')\n",
    "plt.plot(losses.T[1],label='Generator')\n",
    "plt.title('Training losses')\n",
    "plt.legend()"
   ]
  },
  {
   "cell_type": "code",
   "execution_count": 85,
   "metadata": {},
   "outputs": [],
   "source": [
    "def view_samples(epoch,samples):\n",
    "    fig,axes = plt.subplots(nrows=4,ncols=4,sharex=True,sharey=True,figsize=(7,7))\n",
    "    for ax,img in zip(axes.flatten(),samples[epoch][0]):\n",
    "        ax.xaxis.set_visible(False)\n",
    "        ax.yaxis.set_visible(False)\n",
    "        im = ax.imshow(img.reshape((28,28)),cmap='Greys_r')\n",
    "    return fig,axes"
   ]
  },
  {
   "cell_type": "code",
   "execution_count": 86,
   "metadata": {},
   "outputs": [],
   "source": [
    "with open('generator_samples.pkl','rb') as f:\n",
    "    samples = p.load(f)"
   ]
  },
  {
   "cell_type": "code",
   "execution_count": 87,
   "metadata": {},
   "outputs": [
    {
     "data": {
      "image/png": "[encoded data removed]",
      "text/plain": [
       "<matplotlib.figure.Figure at 0x7f361bf9b4a8>"
      ]
     },
     "metadata": {},
     "output_type": "display_data"
    }
   ],
   "source": [
    "_ = view_samples(-1,samples)\n",
    "#print(np.array(samples).T[1])"
   ]
  },
  {
   "cell_type": "code",
   "execution_count": 88,
   "metadata": {},
   "outputs": [
    {
     "name": "stdout",
     "output_type": "stream",
     "text": [
      "INFO:tensorflow:Restoring parameters from checkpoints/generator.ckpt\n"
     ]
    },
    {
     "data": {
      "image/png": "[encoded data removed]",
      "text/plain": [
       "<matplotlib.figure.Figure at 0x7f3652126cc0>"
      ]
     },
     "metadata": {},
     "output_type": "display_data"
    }
   ],
   "source": [
    "with tf.Session() as sess:\n",
    "    saver.restore(sess,tf.train.latest_checkpoint('checkpoints'))\n",
    "    sample_z = np.random.uniform(-1,1,(16,z_size))\n",
    "    sample_g = sess.run(generator(z_inputs,input_size,reuse=True),feed_dict={z_inputs:sample_z})\n",
    "_ = view_samples(0,[sample_g])"
   ]
  },
  {
   "cell_type": "code",
   "execution_count": null,
   "metadata": {},
   "outputs": [],
   "source": []
  }
 ],
 "metadata": {
  "kernelspec": {
   "display_name": "Python 3",
   "language": "python",
   "name": "python3"
  },
  "language_info": {
   "codemirror_mode": {
    "name": "ipython",
    "version": 3
   },
   "file_extension": ".py",
   "mimetype": "text/x-python",
   "name": "python",
   "nbconvert_exporter": "python",
   "pygments_lexer": "ipython3",
   "version": "3.6.2"
  }
 },
 "nbformat": 4,
 "nbformat_minor": 2
}
